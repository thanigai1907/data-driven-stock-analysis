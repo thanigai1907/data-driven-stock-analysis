{
 "cells": [
  {
   "cell_type": "code",
   "execution_count": 2,
   "id": "c1afae97",
   "metadata": {},
   "outputs": [
    {
     "name": "stdout",
     "output_type": "stream",
     "text": [
      "Note: you may need to restart the kernel to use updated packages.\n"
     ]
    },
    {
     "name": "stderr",
     "output_type": "stream",
     "text": [
      "\n",
      "[notice] A new release of pip is available: 24.3.1 -> 25.0.1\n",
      "[notice] To update, run: python.exe -m pip install --upgrade pip\n"
     ]
    },
    {
     "name": "stdout",
     "output_type": "stream",
     "text": [
      "Requirement already satisfied: pyyaml in c:\\users\\velut\\appdata\\local\\programs\\python\\python312\\lib\\site-packages (6.0.2)\n"
     ]
    }
   ],
   "source": [
    "pip install pyyaml\n"
   ]
  },
  {
   "cell_type": "code",
   "execution_count": 4,
   "id": "31f66925",
   "metadata": {},
   "outputs": [],
   "source": [
    "import os\n",
    "import pandas as pd\n",
    "import yaml\n",
    "\n",
    "def yaml_to_dataframe(file_path):\n",
    "    \"\"\"Reads a YAML file and converts it to a pandas DataFrame.\"\"\"\n",
    "    with open(file_path, 'r') as file:\n",
    "        data = yaml.safe_load(file)\n",
    "    return pd.DataFrame(data)\n",
    "\n",
    "def process_yaml_files(data_folder):\n",
    "    \"\"\"Processes all YAML files in subdirectories and compiles them into a single DataFrame.\"\"\"\n",
    "    all_data = []\n",
    "    \n",
    "    for subdir in os.listdir(data_folder):\n",
    "        subdir_path = os.path.join(data_folder, subdir)\n",
    "        if os.path.isdir(subdir_path):\n",
    "            for file in os.listdir(subdir_path):\n",
    "                if file.endswith(\".yaml\") or file.endswith(\".yml\"):\n",
    "                    file_path = os.path.join(subdir_path, file)\n",
    "                    df = yaml_to_dataframe(file_path)\n",
    "                    all_data.append(df)\n",
    "    \n",
    "    return pd.concat(all_data, ignore_index=True) if all_data else pd.DataFrame()\n",
    "\n",
    "def save_stockwise_csv(df, output_folder):\n",
    "    \"\"\"Saves the data into separate CSV files based on stock tickers.\"\"\"\n",
    "    if not os.path.exists(output_folder):\n",
    "        os.makedirs(output_folder)\n",
    "    \n",
    "    for ticker, stock_df in df.groupby('Ticker'):\n",
    "        year = stock_df['date'].iloc[0][:4]  # Extract year from date\n",
    "        file_name = f\"{ticker}.csv\"\n",
    "        stock_df.to_csv(os.path.join(output_folder, file_name), index=False)\n",
    "\n",
    "def main():\n",
    "    data_folder = r\"C:\\Users\\velut\\Downloads\\data (1)\"\n",
    "    output_folder = r\"C:\\Users\\velut\\OneDrive\\Documents\\New folder\\output\"\n",
    "\n",
    "    # Ensure the output folder exists\n",
    "    if not os.path.exists(output_folder):\n",
    "        os.makedirs(output_folder)\n",
    "\n",
    "    combined_df = process_yaml_files(data_folder)\n",
    "\n",
    "    if not combined_df.empty:\n",
    "        combined_df.to_csv(os.path.join(output_folder, \"all_stocks.csv\"), index=False)\n",
    "        save_stockwise_csv(combined_df, output_folder)\n",
    "    else:\n",
    "        print(\"No data found in YAML files.\")\n",
    "\n",
    "if __name__ == \"__main__\":\n",
    "    main()"
   ]
  },
  {
   "cell_type": "code",
   "execution_count": null,
   "id": "8d37efc9",
   "metadata": {},
   "outputs": [],
   "source": []
  }
 ],
 "metadata": {
  "kernelspec": {
   "display_name": "Python 3",
   "language": "python",
   "name": "python3"
  },
  "language_info": {
   "codemirror_mode": {
    "name": "ipython",
    "version": 3
   },
   "file_extension": ".py",
   "mimetype": "text/x-python",
   "name": "python",
   "nbconvert_exporter": "python",
   "pygments_lexer": "ipython3",
   "version": "3.12.8"
  }
 },
 "nbformat": 4,
 "nbformat_minor": 5
}
